{
 "cells": [
  {
   "cell_type": "code",
   "execution_count": null,
   "metadata": {},
   "outputs": [],
   "source": [
    "from Crypto.Cipher import DES # Import the DES module from the Crypto library \n",
    "from Crypto.Util.Padding import pad # Import the pad function to add padding to the plaintext \n",
    "from Crypto.Random import get_random_bytes # Import the get_random_bytes function to generate random bytes for the initialization vector \n",
    "from Crypto.Util.Padding import unpad # Import the unpad function to remove padding from the plaintext\n"
   ]
  },
  {
   "cell_type": "code",
   "execution_count": 2,
   "metadata": {},
   "outputs": [],
   "source": [
    "# Function to encrypt using ECB mode\n",
    "def encrypt_ecb(key, plaintext):\n",
    "    # Create a new DES cipher object with the given key and ECB mode\n",
    "    cipher = DES.new(key, DES.MODE_ECB) \n",
    "    # Pad the plaintext to make it a multiple of the block size and encode it as bytes\n",
    "    padded_plaintext = pad(plaintext.encode(), DES.block_size) \n",
    "    # Encrypt the padded plaintext and return the ciphertext as bytes\n",
    "    ciphertext = cipher.encrypt(padded_plaintext)\n",
    "    return ciphertext\n",
    "# Function to decrypt using ECB mode\n",
    "def decrypt_ecb(key, ciphertext):\n",
    "    # Create a new DES cipher object with the same key and ECB mode\n",
    "    cipher = DES.new(key, DES.MODE_ECB)\n",
    "    # Decrypt the ciphertext and return the plaintext as bytes\n",
    "    plaintext = cipher.decrypt(ciphertext)\n",
    "    # Unpad the plaintext to remove any extra bytes and decode it as a string\n",
    "    unpadded_plaintext = unpad(plaintext, DES.block_size)\n",
    "    return unpadded_plaintext.decode()\n",
    "# Function to encrypt using CBC mode\n",
    "def encrypt_cbc(key, plaintext):\n",
    "    # Generate a random initialization vector of the same size as the block size\n",
    "    iv = get_random_bytes(DES.block_size)\n",
    "    # Create a new DES cipher object with the given key, CBC mode, and initialization vector\n",
    "    cipher = DES.new(key, DES.MODE_CBC, iv)\n",
    "    # Pad and encode the plaintext as before\n",
    "    padded_plaintext = pad(plaintext.encode(), DES.block_size)\n",
    "    # Encrypt the padded plaintext and return the ciphertext as bytes\n",
    "    ciphertext = cipher.encrypt(padded_plaintext)\n",
    "    # Concatenate the initialization vector and the ciphertext and return them as bytes\n",
    "    return iv + ciphertext\n",
    "# Function to decrypt using CBC mode\n",
    "def decrypt_cbc(key, ciphertext):\n",
    "    # Extract the initialization vector from the beginning of the ciphertext\n",
    "    iv = ciphertext[:DES.block_size]\n",
    "    # Create a new DES cipher object with the same key, CBC mode, and initialization vector\n",
    "    cipher = DES.new(key, DES.MODE_CBC, iv)\n",
    "    # Remove the initialization vector from the ciphertext and continue as in the ECB version\n",
    "    plaintext = cipher.decrypt(ciphertext[DES.block_size:])\n",
    "    # Decrypt the rest of the ciphertext and return the plaintext as bytes\n",
    "    unpadded_plaintext = unpad(plaintext, DES.block_size)\n",
    "    # Unpad and decode the plaintext as before\n",
    "    return unpadded_plaintext.decode()\n",
    "# Read file content\n",
    "def read_file(file_path):\n",
    "    with open(file_path, 'r') as file:\n",
    "        return file.read()\n",
    "# Write content to file\n",
    "def write_file(file_path, content):\n",
    "    with open(file_path, 'wb') as file:\n",
    "        file.write(content)"
   ]
  },
  {
   "cell_type": "code",
   "execution_count": 3,
   "metadata": {},
   "outputs": [],
   "source": [
    "# Example usage\n",
    "key = b'abcdefgh'  # 8-byte key\n",
    "file_path = \"plaintext.txt\"\n",
    "\n",
    "# Read file content\n",
    "plaintext = read_file(file_path)\n",
    "\n",
    "# ECB mode\n",
    "ecb_ciphertext = encrypt_ecb(key, plaintext)\n",
    "write_file('python_encrypted_ecb_file.bin', ecb_ciphertext)\n",
    "\n",
    "# CBC mode\n",
    "cbc_ciphertext = encrypt_cbc(key, plaintext)\n",
    "write_file('python_encrypted_cbc_file.bin', cbc_ciphertext)"
   ]
  },
  {
   "cell_type": "code",
   "execution_count": 6,
   "metadata": {},
   "outputs": [
    {
     "name": "stdout",
     "output_type": "stream",
     "text": [
      "ECB Mode Decryption:\n",
      " Ahmed Hossam\n",
      "Alaa Hossam\n",
      "Amr Wassem\n",
      "Ahmed Hossam\n",
      "Alaa Hossam\n",
      "Amr Wassem\n"
     ]
    }
   ],
   "source": [
    "with open (\"python_encrypted_ecb_file.bin\", \"rb\") as f:\n",
    "    ecb_data=f.read()\n",
    "\n",
    "print(\"ECB Mode Decryption:\\n\", decrypt_ecb(key, ecb_data))\n"
   ]
  },
  {
   "cell_type": "code",
   "execution_count": 7,
   "metadata": {},
   "outputs": [
    {
     "name": "stdout",
     "output_type": "stream",
     "text": [
      "CBC Mode Decryption:\n",
      " Ahmed Hossam\n",
      "Alaa Hossam\n",
      "Amr Wassem\n",
      "Ahmed Hossam\n",
      "Alaa Hossam\n",
      "Amr Wassem\n"
     ]
    }
   ],
   "source": [
    "with open(\"python_encrypted_cbc_file.bin\", \"rb\") as f:\n",
    "    cbc_data=f.read()\n",
    "\n",
    "print(\"CBC Mode Decryption:\\n\", decrypt_cbc(key, cbc_data))\n"
   ]
  }
 ],
 "metadata": {
  "kernelspec": {
   "display_name": "Python 3",
   "language": "python",
   "name": "python3"
  },
  "language_info": {
   "codemirror_mode": {
    "name": "ipython",
    "version": 3
   },
   "file_extension": ".py",
   "mimetype": "text/x-python",
   "name": "python",
   "nbconvert_exporter": "python",
   "pygments_lexer": "ipython3",
   "version": "3.12.0"
  }
 },
 "nbformat": 4,
 "nbformat_minor": 2
}
